{
  "nbformat": 4,
  "nbformat_minor": 0,
  "metadata": {
    "colab": {
      "provenance": [],
      "authorship_tag": "ABX9TyPfK+RpqapeB5kqULEXcX7r",
      "include_colab_link": true
    },
    "kernelspec": {
      "name": "python3",
      "display_name": "Python 3"
    },
    "language_info": {
      "name": "python"
    }
  },
  "cells": [
    {
      "cell_type": "markdown",
      "metadata": {
        "id": "view-in-github",
        "colab_type": "text"
      },
      "source": [
        "<a href=\"https://colab.research.google.com/github/wesleyfuchs/planilha-teste/blob/main/Untitled0.ipynb\" target=\"_parent\"><img src=\"https://colab.research.google.com/assets/colab-badge.svg\" alt=\"Open In Colab\"/></a>"
      ]
    },
    {
      "cell_type": "code",
      "execution_count": null,
      "metadata": {
        "id": "wF0RbCQR4Yc8"
      },
      "outputs": [],
      "source": [
        "import pandas as pd\n",
        "from openpyxl import Workbook\n",
        "from openpyxl.styles import PatternFill\n",
        "from openpyxl.utils.dataframe import dataframe_to_rows"
      ]
    },
    {
      "cell_type": "code",
      "source": [
        "# Leitura dos arquivos Excel\n",
        "base_df = pd.read_excel('/content/Pasta1.xlsx')\n",
        "atualizada_df = pd.read_excel('/content/Pasta2.xlsx')"
      ],
      "metadata": {
        "id": "T38AoldO6rHG"
      },
      "execution_count": null,
      "outputs": []
    },
    {
      "cell_type": "code",
      "source": [
        "# Identificar valores que não estão mais na base atualizada\n",
        "valores_removidos = base_df[~base_df.isin(atualizada_df)].dropna()\n",
        "\n",
        "# Identificar novos valores na base atualizada\n",
        "novos_valores = atualizada_df[~atualizada_df.isin(base_df)].dropna()\n",
        "\n",
        "# Criando um novo workbook do openpyxl\n",
        "wb = Workbook()\n",
        "ws = wb.active\n",
        "\n",
        "# Adicionando os dados da base original ao workbook\n",
        "for r_idx, row in enumerate(dataframe_to_rows(base_df, index=False, header=True), 1):\n",
        "    ws.append(row)\n",
        "\n",
        "# Colorindo os valores removidos de vermelho\n",
        "for row in ws.iter_rows(min_row=2, min_col=1, max_row=ws.max_row, max_col=ws.max_column):\n",
        "    for cell in row:\n",
        "        if cell.value in valores_removidos.values:\n",
        "            cell.fill = PatternFill(start_color=\"FF0000\", end_color=\"FF0000\", fill_type=\"solid\")\n",
        "\n",
        "# Adicionando os novos valores ao workbook\n",
        "for r_idx, row in enumerate(dataframe_to_rows(novos_valores, index=False, header=False), len(base_df) + 2):\n",
        "    ws.append(row)\n",
        "\n",
        "# Colorindo os novos valores de verde\n",
        "for row in ws.iter_rows(min_row=len(base_df) + 2, min_col=1, max_row=ws.max_row, max_col=ws.max_column):\n",
        "    for cell in row:\n",
        "        cell.fill = PatternFill(start_color=\"00FF00\", end_color=\"00FF00\", fill_type=\"solid\")\n",
        "\n",
        "# Salvando o arquivo\n",
        "wb.save('/content/resultado.xlsx')\n"
      ],
      "metadata": {
        "id": "-PZiXOVx9NR2"
      },
      "execution_count": null,
      "outputs": []
    },
    {
      "cell_type": "code",
      "source": [],
      "metadata": {
        "id": "C44mkTGq9j-f"
      },
      "execution_count": null,
      "outputs": []
    }
  ]
}